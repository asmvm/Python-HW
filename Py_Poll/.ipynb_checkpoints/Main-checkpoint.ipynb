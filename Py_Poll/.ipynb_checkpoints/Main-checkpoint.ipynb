{
 "cells": [
  {
   "cell_type": "code",
   "execution_count": 3,
   "metadata": {},
   "outputs": [],
   "source": [
    "import os\n",
    "import csv"
   ]
  },
  {
   "cell_type": "code",
   "execution_count": 4,
   "metadata": {},
   "outputs": [
    {
     "data": {
      "text/plain": [
       "'C:\\\\Users\\\\a_mcr\\\\Desktop\\\\Bootcamp\\\\Homeworks\\\\Python_Challenge\\\\Python_Challenge\\\\Py_Poll'"
      ]
     },
     "execution_count": 4,
     "metadata": {},
     "output_type": "execute_result"
    }
   ],
   "source": [
    "pwd"
   ]
  },
  {
   "cell_type": "code",
   "execution_count": 5,
   "metadata": {},
   "outputs": [
    {
     "data": {
      "text/plain": [
       "'Resources\\\\election_data.csv'"
      ]
     },
     "execution_count": 5,
     "metadata": {},
     "output_type": "execute_result"
    }
   ],
   "source": [
    "csvpath=os.path.join('Resources',\"election_data.csv\")\n",
    "csvpath"
   ]
  },
  {
   "cell_type": "code",
   "execution_count": 404,
   "metadata": {},
   "outputs": [],
   "source": [
    "with open(csvpath) as csvfile:\n",
    "    csvreader = csv.reader(csvfile, delimiter=',')\n",
    "    csvheader = next(csvreader)\n",
    "    \n",
    "    #print(csvheader)\n",
    "            \n",
    "    candidate_list = []\n",
    "    total_votes = 0 \n",
    "    election_dict = {}\n",
    "    percent_vote = 0.00\n",
    "    \n",
    "    results = \"\"\n",
    "    final_results = \"\"\n",
    "\n",
    "    for row in csvreader:\n",
    "        total_votes = total_votes + 1\n",
    "        candidate_list.append(row[2])\n",
    "\n",
    "    for i in set(candidate_list):\n",
    "        election_dict.update({i:0})\n",
    "\n",
    "    for row in candidate_list:\n",
    "        election_dict[row] = election_dict[row] + 1\n",
    "    \n",
    "   "
   ]
  },
  {
   "cell_type": "code",
   "execution_count": 474,
   "metadata": {},
   "outputs": [
    {
     "name": "stdout",
     "output_type": "stream",
     "text": [
      "Election Results\n",
      "    -----------------------------------------------\n",
      "    Total votes: 3521001\n",
      "    ------------------------------------------------\n",
      "    O'Tooley, 3.0%, (105630)\n",
      "    ------------------------------------------------\n",
      "    Winner: Khan\n",
      "    ------------------------------------------------\n",
      "Election Results\n",
      "    -----------------------------------------------\n",
      "    Total votes: 3521001\n",
      "    ------------------------------------------------\n",
      "    Khan, 63.0%, (2218231)\n",
      "    ------------------------------------------------\n",
      "    Winner: Khan\n",
      "    ------------------------------------------------\n",
      "Election Results\n",
      "    -----------------------------------------------\n",
      "    Total votes: 3521001\n",
      "    ------------------------------------------------\n",
      "    Li, 14.0%, (492940)\n",
      "    ------------------------------------------------\n",
      "    Winner: Khan\n",
      "    ------------------------------------------------\n",
      "Election Results\n",
      "    -----------------------------------------------\n",
      "    Total votes: 3521001\n",
      "    ------------------------------------------------\n",
      "    Correy, 20.0%, (704200)\n",
      "    ------------------------------------------------\n",
      "    Winner: Khan\n",
      "    ------------------------------------------------\n"
     ]
    }
   ],
   "source": [
    "for i in election_dict:\n",
    "    \n",
    "    winner = max(election_dict, key=election_dict.get)             \n",
    "    #results = (f'{i}, {percent_vote}%, ({election_dict[i]})')\n",
    "    \n",
    "    percent_vote = ((election_dict[i] / total_votes) * 100) \n",
    "    percent_vote = round(percent_vote,2)\n",
    "\n",
    "    results = (f'{i}, {percent_vote}%, ({election_dict[i]})')     \n",
    "    #print(results)     \n",
    "\n",
    "    #print(f'{results}')\n",
    "\n",
    "\n",
    "#     final_results = (f'''Election Results\n",
    "#     ---------------------------------------------\n",
    "#     Total votes: {total_votes}\n",
    "#     ---------------------------------------------\n",
    "#     {results}   \n",
    "#     ---------------------------------------------\n",
    "#     Winner: {winner}\n",
    "#     ---------------------------------------------\n",
    "#     ''')\n",
    "\n",
    "    print(f'''Election Results\n",
    "    -----------------------------------------------\n",
    "    Total votes: {total_votes}\n",
    "    ------------------------------------------------\n",
    "    {results}\n",
    "    ------------------------------------------------\n",
    "    Winner: {winner}\n",
    "    ------------------------------------------------''')\n",
    "    \n",
    "\n",
    "\n",
    "    \n"
   ]
  },
  {
   "cell_type": "code",
   "execution_count": null,
   "metadata": {},
   "outputs": [],
   "source": []
  },
  {
   "cell_type": "code",
   "execution_count": null,
   "metadata": {},
   "outputs": [],
   "source": []
  }
 ],
 "metadata": {
  "kernelspec": {
   "display_name": "Python 3",
   "language": "python",
   "name": "python3"
  },
  "language_info": {
   "codemirror_mode": {
    "name": "ipython",
    "version": 3
   },
   "file_extension": ".py",
   "mimetype": "text/x-python",
   "name": "python",
   "nbconvert_exporter": "python",
   "pygments_lexer": "ipython3",
   "version": "3.7.6"
  }
 },
 "nbformat": 4,
 "nbformat_minor": 4
}
