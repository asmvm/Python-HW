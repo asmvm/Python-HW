{
 "cells": [
  {
   "cell_type": "code",
   "execution_count": 1,
   "metadata": {},
   "outputs": [],
   "source": [
    "import os\n",
    "import csv"
   ]
  },
  {
   "cell_type": "code",
   "execution_count": 2,
   "metadata": {},
   "outputs": [
    {
     "data": {
      "text/plain": [
       "'C:\\\\Users\\\\a_mcr\\\\Desktop\\\\Bootcamp\\\\Homeworks\\\\Python_Challenge\\\\Python_Challenge\\\\Py_Poll'"
      ]
     },
     "execution_count": 2,
     "metadata": {},
     "output_type": "execute_result"
    }
   ],
   "source": [
    "pwd"
   ]
  },
  {
   "cell_type": "code",
   "execution_count": 3,
   "metadata": {},
   "outputs": [
    {
     "data": {
      "text/plain": [
       "'Resources\\\\election_data.csv'"
      ]
     },
     "execution_count": 3,
     "metadata": {},
     "output_type": "execute_result"
    }
   ],
   "source": [
    "csvpath=os.path.join('Resources',\"election_data.csv\")\n",
    "csvpath"
   ]
  },
  {
   "cell_type": "code",
   "execution_count": 93,
   "metadata": {},
   "outputs": [
    {
     "name": "stdout",
     "output_type": "stream",
     "text": [
      "3521001\n",
      "Li 492940\n",
      "O'Tooley 105630\n",
      "Khan 2218231\n",
      "Correy 704200\n"
     ]
    }
   ],
   "source": [
    "with open(csvpath) as csvfile:\n",
    "    csvreader = csv.reader(csvfile, delimiter=',')\n",
    "    csvheader = next(csvreader)\n",
    "    \n",
    "    #print(csvheader)\n",
    "    \n",
    "    \n",
    "    \n",
    "    candidate_list = []\n",
    "    total_votes = [] \n",
    "    election_dict = {}\n",
    "    \n",
    "    for row in csvreader:\n",
    "        candidate_list.append(row[2])\n",
    "        \n",
    "    \n",
    "    election_dict = {}\n",
    "    for i in set(candidate_list):\n",
    "        election_dict.update({i:0})\n",
    "         \n",
    "    \n",
    "    for row in candidate_list:\n",
    "        election_dict[row] = election_dict[row] + 1\n",
    "        \n",
    "    print(sum(election_dict.values()))\n",
    "        \n",
    "    for key, value in election_dict.items():\n",
    "\n",
    "        print(key,value)\n",
    "        \n",
    "          \n",
    "#   The total number of votes cast(sum of all the votes)\n",
    "#print(election_dict.values()) \n",
    "#print(sum(election_dict.values()))\n",
    "\n",
    "                \n",
    "#    A complete list of candidates who received votes: print(election_dict.keys())\n",
    "\n",
    "\n",
    "#    The percentage of votes each candidate won: # votes for candidate / # total votes\n",
    "\n",
    "\n",
    "\n",
    "#    The total number of votes each candidate won\n",
    "\n",
    "\n",
    "\n",
    "#    The winner of the election based on popular vote.\n",
    "    "
   ]
  },
  {
   "cell_type": "code",
   "execution_count": null,
   "metadata": {},
   "outputs": [],
   "source": []
  }
 ],
 "metadata": {
  "kernelspec": {
   "display_name": "Python 3",
   "language": "python",
   "name": "python3"
  },
  "language_info": {
   "codemirror_mode": {
    "name": "ipython",
    "version": 3
   },
   "file_extension": ".py",
   "mimetype": "text/x-python",
   "name": "python",
   "nbconvert_exporter": "python",
   "pygments_lexer": "ipython3",
   "version": "3.7.6"
  }
 },
 "nbformat": 4,
 "nbformat_minor": 4
}
