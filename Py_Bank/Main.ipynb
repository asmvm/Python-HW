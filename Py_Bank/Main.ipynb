{
 "cells": [
  {
   "cell_type": "code",
   "execution_count": 1,
   "metadata": {},
   "outputs": [],
   "source": [
    "import os\n",
    "import csv"
   ]
  },
  {
   "cell_type": "code",
   "execution_count": 2,
   "metadata": {},
   "outputs": [
    {
     "data": {
      "text/plain": [
       "'C:\\\\Users\\\\a_mcr\\\\Desktop\\\\Bootcamp\\\\Homeworks\\\\Python_Challenge\\\\Python_Challenge\\\\Py_Bank'"
      ]
     },
     "execution_count": 2,
     "metadata": {},
     "output_type": "execute_result"
    }
   ],
   "source": [
    "pwd"
   ]
  },
  {
   "cell_type": "code",
   "execution_count": 199,
   "metadata": {},
   "outputs": [],
   "source": [
    "csvpath = os.path.join(\"Resources\",\"budget_data.csv\")"
   ]
  },
  {
   "cell_type": "code",
   "execution_count": 200,
   "metadata": {},
   "outputs": [
    {
     "data": {
      "text/plain": [
       "'Resources\\\\budget_data.csv'"
      ]
     },
     "execution_count": 200,
     "metadata": {},
     "output_type": "execute_result"
    }
   ],
   "source": [
    "csvpath"
   ]
  },
  {
   "cell_type": "code",
   "execution_count": 443,
   "metadata": {},
   "outputs": [
    {
     "name": "stdout",
     "output_type": "stream",
     "text": [
      "Financial Analysis\n",
      "------------------------------------------------------\n",
      "Total Months: 86\n",
      "Total: $38382578.0\n",
      "Average Change: $-2315.12\n",
      "Greatest increase in profits: Feb-2012 ($1926159.0)\n",
      "Greatest decrease in profits: Sep-2013 ($-2196167.0)\n"
     ]
    }
   ],
   "source": [
    "with open(csvpath) as csvfile:\n",
    "    csvreader = csv.reader(csvfile, delimiter=',')\n",
    "    csv_header = next(csvreader)\n",
    "    \n",
    "     \n",
    "# set all variables  \n",
    "    \n",
    "    tot_months = 0\n",
    "    total_profit_losses = 0.0\n",
    "    profit_losses = 0.0\n",
    "    \n",
    "    previous_profit_losses = 0.0\n",
    "    change_profit_losses = 0.0\n",
    "    \n",
    "    profit_loss_list = []\n",
    "    min_date=\"\"\n",
    "    max_date=\"\"\n",
    "    max_change=0.0\n",
    "    min_change=0.0\n",
    "    pl_date=\"\"\n",
    "\n",
    "# Begin for loop to iterate through the data\n",
    "    \n",
    "    for row in csvreader:            \n",
    "                \n",
    "        profit_losses = float(row[1])   \n",
    "        pl_date=row[0]\n",
    "\n",
    "# The net total amount of \"Profit/Losses\" over the entire period\n",
    "# The total number of months included in the dataset \n",
    "        total_profit_losses = profit_losses+total_profit_losses\n",
    "        tot_months = tot_months + 1  \n",
    "             \n",
    "        if tot_months > 1:        \n",
    "            change_profit_losses = profit_losses - previous_profit_losses\n",
    "            profit_loss_list.append(change_profit_losses)\n",
    "        \n",
    "# The greatest increase in profits (date and amount) over the entire period        \n",
    "        if change_profit_losses > max_change:\n",
    "            max_change = change_profit_losses\n",
    "            max_date = pl_date\n",
    "            \n",
    "# The greatest decrease in losses (date and amount) over the entire period                \n",
    "        if change_profit_losses < min_change:\n",
    "            min_change=change_profit_losses\n",
    "            min_date = pl_date\n",
    "        \n",
    "        previous_profit_losses = profit_losses\n",
    "\n",
    "# print financial analysis        \n",
    "# print(total_profit_losses)\n",
    "\n",
    "    \n",
    "    print(\"Financial Analysis\")\n",
    "    print(\"------------------------------------------------------\")\n",
    "    print(\"Total Months: \" + str(tot_months))       \n",
    "    print(\"Total: $\" + str(total_profit_losses))\n",
    "    \n",
    "# The average of the changes in \"Profit/Losses\" over the entire period       \n",
    "    ave_profit_loss = sum(profit_loss_list)/len(profit_loss_list)\n",
    "    ave_profit_loss = round(ave_profit_loss,2)\n",
    "    print(\"Average Change: $\" + str(ave_profit_loss))\n",
    "   \n",
    "\n",
    "    print(\"Greatest increase in profits: \" + str(max_date) + \" ($\" + str(max(profit_loss_list)) + \")\")\n",
    "    #print(max_date)\n",
    "\n",
    "    print(\"Greatest decrease in profits: \" + str(min_date) + \" ($\" + str(min(profit_loss_list)) + \")\")\n",
    "    #print(min_date)\n",
    "    \n",
    "  \n",
    "    \n",
    " \n",
    "       \n",
    "    \n",
    "\n",
    "    "
   ]
  },
  {
   "cell_type": "raw",
   "metadata": {},
   "source": []
  },
  {
   "cell_type": "code",
   "execution_count": null,
   "metadata": {},
   "outputs": [],
   "source": []
  }
 ],
 "metadata": {
  "kernelspec": {
   "display_name": "Python 3",
   "language": "python",
   "name": "python3"
  },
  "language_info": {
   "codemirror_mode": {
    "name": "ipython",
    "version": 3
   },
   "file_extension": ".py",
   "mimetype": "text/x-python",
   "name": "python",
   "nbconvert_exporter": "python",
   "pygments_lexer": "ipython3",
   "version": "3.7.6"
  }
 },
 "nbformat": 4,
 "nbformat_minor": 4
}
